{
 "cells": [
  {
   "cell_type": "markdown",
   "metadata": {},
   "source": [
    "# NAIVE APPROACH"
   ]
  },
  {
   "cell_type": "markdown",
   "metadata": {},
   "source": [
    "Given L and R, output sum of elements in range, L and R inclusive.\n",
    "\n",
    "The time complexity of above solution is O(mn)."
   ]
  },
  {
   "cell_type": "code",
   "execution_count": 2,
   "metadata": {},
   "outputs": [
    {
     "name": "stdout",
     "output_type": "stream",
     "text": [
      "Sum of [0, 4] is 8\n",
      "Sum of [1, 3] is 4\n",
      "Sum of [2, 4] is 6\n"
     ]
    }
   ],
   "source": [
    "# Python program to compute sum of ranges for different range queries.\n",
    "\n",
    "# Function that accepts array and list of queries and print sum of each query\n",
    "def printQuerySum(arr,Q):\n",
    "    \n",
    "    for q in Q: # Traverse through each query\n",
    "        L,R = q # Extract left and right indices\n",
    "        s = 0\n",
    "        for i in range(L,R+1): # Compute sum of current query range\n",
    "            s += arr[i]\n",
    "            \n",
    "        print(\"Sum of\",q,\"is\",s) # Print sum of current query range\n",
    "\n",
    "# Driver script\n",
    "arr = [1, 1, 2, 1, 3, 4, 5, 2, 8]\n",
    "Q = [[0, 4], [1, 3], [2, 4]]\n",
    "printQuerySum(arr,Q)"
   ]
  },
  {
   "cell_type": "markdown",
   "metadata": {},
   "source": [
    "# MO's ALGORITHM"
   ]
  },
  {
   "cell_type": "markdown",
   "metadata": {},
   "source": [
    "The idea of MO’s algorithm is to pre-process all queries so that result of one query can be used in next query. Below are steps.\n",
    "\n",
    "Let a[0…n-1] be input array and q[0..m-1] be array of queries.\n",
    "\n",
    "Sort all queries in a way that queries with L values from 0 to √n – 1 are put together, then all queries from √n to 2*√n – 1, and so on. All queries within a block are sorted in increasing order of R values.\n",
    "Process all queries one by one in a way that every query uses sum computed in the previous query.\n",
    "Let ‘sum’ be sum of previous query.\n",
    "Remove extra elements of previous query. For example if previous query is [0, 8] and current query is [3, 9], then we subtract a[0],a[1] and a[2] from sum\n",
    "Add new elements of current query. In the same example as above, we add a[9] to sum.\n",
    "The great thing about this algorithm is, in step 2, index variable for R change at most O(n * √n) times throughout the run and same for L changes its value at most O(m * √n) times (See below, after the code, for details). All these bounds are possible only because the queries are sorted first in blocks of √n size.\n",
    "\n",
    "The preprocessing part takes O(m Log m) time.\n",
    "\n",
    "Processing all queries takes O(n * √n) + O(m * √n) = O((m+n) * √n) time."
   ]
  },
  {
   "cell_type": "code",
   "execution_count": 1,
   "metadata": {},
   "outputs": [
    {
     "name": "stdout",
     "output_type": "stream",
     "text": [
      "Sum of [1, 3] is 4\n",
      "Sum of [0, 4] is 8\n",
      "Sum of [2, 4] is 6\n"
     ]
    }
   ],
   "source": [
    "# Python program to compute sum of ranges for different range queries \n",
    "\n",
    "import math\n",
    "\n",
    "# Function that accepts array and list of queries and print sum of each query\n",
    "def queryResults(arr,Q):\n",
    "    \n",
    "    #Q.sort(): # Sort by L\n",
    "    #sort all queries so that all queries in the increasing order of R values .  \n",
    "    Q.sort(key=lambda x: x[1])\n",
    "    \n",
    "    # Initialize current L, current R and current sum\n",
    "    currL,currR,currSum = 0,0,0\n",
    "    \n",
    "    # Traverse through all queries\n",
    "    for i in range(len(Q)):\n",
    "        L,R = Q[i] # L and R values of current range\n",
    "        \n",
    "        # Remove extra elements from previous range\n",
    "        # if previous range is [0, 3] and current  \n",
    "        # range is [2, 5], then a[0] and a[1] are subtracted  \n",
    "        while currL<L:\n",
    "            currSum-=arr[currL]\n",
    "            currL+=1\n",
    "            \n",
    "        # Add elements of current range\n",
    "        while currL>L:\n",
    "            currSum+=arr[currL-1]\n",
    "            currL-=1\n",
    "        while currR<=R:\n",
    "            currSum+=arr[currR]\n",
    "            currR+=1\n",
    "            \n",
    "        # Remove elements of previous range\n",
    "        # when previous range is [0, 10] and current range  \n",
    "        # is [3, 8], then a[9] and a[10] are subtracted  \n",
    "        while currR>R+1:\n",
    "            currSum-=arr[currR-1]\n",
    "            currR-=1\n",
    "        \n",
    "        # Print the sum of current range\n",
    "        print(\"Sum of\",Q[i],\"is\",currSum)\n",
    "\n",
    "arr = [1, 1, 2, 1, 3, 4, 5, 2, 8]\n",
    "Q = [[0, 4], [1, 3], [2, 4]]\n",
    "queryResults(arr,Q)"
   ]
  },
  {
   "cell_type": "code",
   "execution_count": null,
   "metadata": {},
   "outputs": [],
   "source": []
  }
 ],
 "metadata": {
  "kernelspec": {
   "display_name": "Python 3",
   "language": "python",
   "name": "python3"
  },
  "language_info": {
   "codemirror_mode": {
    "name": "ipython",
    "version": 3
   },
   "file_extension": ".py",
   "mimetype": "text/x-python",
   "name": "python",
   "nbconvert_exporter": "python",
   "pygments_lexer": "ipython3",
   "version": "3.6.4"
  }
 },
 "nbformat": 4,
 "nbformat_minor": 2
}
